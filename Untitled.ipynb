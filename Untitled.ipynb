{
 "cells": [
  {
   "cell_type": "code",
   "execution_count": 3,
   "metadata": {},
   "outputs": [],
   "source": [
    "import bot_ai.neural\n",
    "import pandas as pd"
   ]
  },
  {
   "cell_type": "code",
   "execution_count": 4,
   "metadata": {},
   "outputs": [],
   "source": [
    "df = pd.read_json('https://poloniex.com/public?command=returnChartData&currencyPair=USDT_BTC&start=1405699200&end=9999999999&period=300', convert_dates=False)\n",
    "df.to_csv('data/BTCUSD300.csv', index=False)"
   ]
  },
  {
   "cell_type": "code",
   "execution_count": 7,
   "metadata": {},
   "outputs": [],
   "source": [
    "df = pd.read_csv('data/BTCUSD300.csv')\n",
    "# last_date = df.tail(1)['date'] # get the last entry and its date\n",
    "values = df.values\n",
    "values = values.astype('float32') \n",
    "\n",
    "# normalize features\n",
    "scaler = MinMaxScaler(feature_range=(0, 1))\n",
    "scaled = scaler.fit_transform(values)\n",
    "scaled_df = pd.DataFrame(scaled)\n",
    "scaled_df.columns = df.columns\n",
    "# frame as supervised learning\n",
    "n_hours = 3\n",
    "n_features = len(df.columns)\n",
    "reframed = de.series_to_supervised(scaled_df, n_hours, 0)\n",
    "# drop columns we don't want to predict\n",
    "reframed.drop(reframed.columns[np.arange(-n_features+1, 0)], axis=1, inplace=True)\n",
    "# TODO\n",
    "# One-hot encoding wind speed.\n",
    "# Making all series stationary with differencing and seasonal adjustment.\n",
    "# Providing more than 1 hour of input time steps.\n",
    "values = reframed.values\n",
    "train_index = int(0.8*len(values))\n",
    "train = values[:train_index, :]\n",
    "test = values[train_index:, :]\n",
    "# split into input and outputs\n",
    "n_obs = n_hours * n_features\n",
    "train_X, train_y = train[:, :n_obs], train[:, -n_features]\n",
    "test_X, test_y = test[:, :n_obs], test[:, -n_features]\n",
    "print(train_X.shape, len(train_X), train_y.shape)\n",
    "# reshape input to be 3D [samples, timesteps, features]\n",
    "train_X = train_X.reshape((train_X.shape[0], n_hours, n_features))\n",
    "test_X = test_X.reshape((test_X.shape[0], n_hours, n_features))\n",
    "print(train_X.shape, train_y.shape, test_X.shape, test_y.shape)\n",
    "print(reframed.head())\n",
    "\n",
    "neur = neural.Neural('BTC_USD_15min', overwrite=False)\n",
    "model = neur.load_or_build_model(n_hours, n_features)\n",
    "history = neur.train_model(train_X, train_y, test_X, test_y, 10)\n",
    "\n",
    "plt.plot(history.history['loss'], label='train')\n",
    "plt.plot(history.history['val_loss'], label='test')\n",
    "plt.legend()\n",
    "plt.show()\n",
    "\n",
    "# make a prediction\n",
    "yhat = neur.predict(test_X)\n",
    "test_X = test_X.reshape((test_X.shape[0], n_hours * n_features))\n",
    "inv_yhat = np.concatenate((yhat, test_X[:, -7:]), axis=1)\n",
    "inv_yhat = scaler.inverse_transform(inv_yhat)\n",
    "inv_yhat = inv_yhat[:, 0]\n",
    "# invert scaling for actual\n",
    "test_y = test_y.reshape((len(test_y), 1))\n",
    "inv_y = np.concatenate((test_y, test_X[:, -7:]), axis=1)\n",
    "inv_y = scaler.inverse_transform(inv_y)\n",
    "print(inv_y)\n",
    "inv_y = inv_y[:, 0]\n",
    "print(inv_y)\n",
    "# calculate RMSE\n",
    "rmse = np.math.sqrt(mean_squared_error(inv_y, inv_yhat))\n",
    "print(rmse)\n",
    "print(yhat.shape)\n",
    "print(test_y.shape)\n",
    "print(test_y)\n",
    "\n",
    "fig, ax1 = plt.subplots(1, 1)\n",
    "ax1.plot(scaler.inverse_transform(test)[:, 1].astype(datetime.datetime), inv_y, label='Actual')\n",
    "ax1.plot(scaler.inverse_transform(test)[:, 1].astype(datetime.datetime), inv_yhat, label='Predicted')\n",
    "plt.legend()\n",
    "plt.show()"
   ]
  },
  {
   "cell_type": "code",
   "execution_count": null,
   "metadata": {},
   "outputs": [],
   "source": []
  }
 ],
 "metadata": {
  "kernelspec": {
   "display_name": "Python 3",
   "language": "python",
   "name": "python3"
  },
  "language_info": {
   "codemirror_mode": {
    "name": "ipython",
    "version": 3
   },
   "file_extension": ".py",
   "mimetype": "text/x-python",
   "name": "python",
   "nbconvert_exporter": "python",
   "pygments_lexer": "ipython3",
   "version": "3.6.5"
  }
 },
 "nbformat": 4,
 "nbformat_minor": 2
}
